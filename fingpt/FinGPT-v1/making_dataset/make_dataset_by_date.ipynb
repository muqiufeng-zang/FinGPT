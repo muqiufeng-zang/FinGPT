{
 "cells": [
  {
   "cell_type": "code",
   "execution_count": 6,
   "metadata": {
    "ExecuteTime": {
     "end_time": "2023-08-27T02:05:43.570541Z",
     "start_time": "2023-08-27T02:05:43.549869Z"
    }
   },
   "outputs": [],
   "source": [
    "import os\n",
    "import datetime\n",
    "import pandas as pd\n",
    "import numpy as np\n",
    "from lxml import etree\n",
    "from tqdm import tqdm"
   ]
  },
  {
   "cell_type": "code",
   "execution_count": 7,
   "metadata": {
    "ExecuteTime": {
     "end_time": "2023-08-27T02:05:48.747477Z",
     "start_time": "2023-08-27T02:05:48.724922Z"
    }
   },
   "outputs": [
    {
     "name": "stdout",
     "output_type": "stream",
     "text": [
      "What is the sentiment of this news? Answer:{very negative/negative/neutral/positive/very positive}\n"
     ]
    }
   ],
   "source": [
    "# The base_path should be the results with labels generated in ../data_preparations/add_labels.py\n",
    "base_path = r\"../../../data/content_with_labels\"\n",
    "columns = [\"instruction\",\"input\",\"output\"]\n",
    "instruction = \"What is the sentiment of this news? Answer:{very negative/negative/neutral/positive/very positive}\"\n",
    "\n",
    "file_list = os.listdir(base_path)\n",
    "print(instruction)"
   ]
  },
  {
   "attachments": {},
   "cell_type": "markdown",
   "metadata": {},
   "source": [
    "python3.10 -m pip install jupyter### Title/标题"
   ]
  },
  {
   "cell_type": "code",
   "execution_count": 8,
   "metadata": {
    "ExecuteTime": {
     "end_time": "2023-08-27T02:06:16.670658Z",
     "start_time": "2023-08-27T02:06:16.632762Z"
    }
   },
   "outputs": [
    {
     "name": "stderr",
     "output_type": "stream",
     "text": [
      "100%|██████████| 1/1 [00:00<00:00, 75.35it/s]\n"
     ]
    }
   ],
   "source": [
    "dataset = pd.DataFrame(columns= columns)\n",
    "for file_name in tqdm(file_list):\n",
    "    df = pd.read_csv(os.path.join(base_path, file_name))\n",
    "    df[\"input\"] = df.apply(lambda x: f'今天的日期为：{x[\"publish_date\"]}。\\n新闻标题为：\\\"{x[\"post_title\"]}\\\"。', axis = 1)\n",
    "    df[\"instruction\"] = instruction\n",
    "    df['output'] = df[\"label\"]\n",
    "    tmp = df[columns+[\"date\"]]\n",
    "    dataset = pd.concat([dataset, tmp])"
   ]
  },
  {
   "cell_type": "code",
   "execution_count": 9,
   "metadata": {
    "ExecuteTime": {
     "end_time": "2023-08-27T02:06:26.841243Z",
     "start_time": "2023-08-27T02:06:26.813251Z"
    }
   },
   "outputs": [
    {
     "data": {
      "text/plain": "                                         instruction  \\\n0  What is the sentiment of this news? Answer:{ve...   \n1  What is the sentiment of this news? Answer:{ve...   \n2  What is the sentiment of this news? Answer:{ve...   \n3  What is the sentiment of this news? Answer:{ve...   \n4  What is the sentiment of this news? Answer:{ve...   \n5  What is the sentiment of this news? Answer:{ve...   \n6  What is the sentiment of this news? Answer:{ve...   \n7  What is the sentiment of this news? Answer:{ve...   \n\n                                               input    output        date  \n0  今天的日期为：2023-08-07。\\n新闻标题为：\"万科Ａ：融资净偿还3241.85万元，...  negative  2023-08-07  \n1  今天的日期为：2023-08-07。\\n新闻标题为：\"万科A本周融资净偿还4339.37万元...  negative  2023-08-06  \n2  今天的日期为：2023-08-06。\\n新闻标题为：\"万科A本周深股通持股市值减少1.41亿...  negative  2023-08-06  \n3  今天的日期为：2023-08-05。\\n新闻标题为：\"万科A08月04日被深股通减持1331...  negative  2023-08-05  \n4  今天的日期为：2023-08-04。\\n新闻标题为：\"万科Ａ：连续3日融资净买入累计4951...  negative  2023-08-04  \n5  今天的日期为：2023-08-04。\\n新闻标题为：\"万科A08月03日获深股通增持597....  negative  2023-08-04  \n6  今天的日期为：2023-08-04。\\n新闻标题为：\"万科前7个月销售约2260亿元 近期新...  negative  2023-08-04  \n7  今天的日期为：2023-08-04。\\n新闻标题为：\"万科A披露7月销售数据 实现合同销售金...  negative  2023-08-03  ",
      "text/html": "<div>\n<style scoped>\n    .dataframe tbody tr th:only-of-type {\n        vertical-align: middle;\n    }\n\n    .dataframe tbody tr th {\n        vertical-align: top;\n    }\n\n    .dataframe thead th {\n        text-align: right;\n    }\n</style>\n<table border=\"1\" class=\"dataframe\">\n  <thead>\n    <tr style=\"text-align: right;\">\n      <th></th>\n      <th>instruction</th>\n      <th>input</th>\n      <th>output</th>\n      <th>date</th>\n    </tr>\n  </thead>\n  <tbody>\n    <tr>\n      <th>0</th>\n      <td>What is the sentiment of this news? Answer:{ve...</td>\n      <td>今天的日期为：2023-08-07。\\n新闻标题为：\"万科Ａ：融资净偿还3241.85万元，...</td>\n      <td>negative</td>\n      <td>2023-08-07</td>\n    </tr>\n    <tr>\n      <th>1</th>\n      <td>What is the sentiment of this news? Answer:{ve...</td>\n      <td>今天的日期为：2023-08-07。\\n新闻标题为：\"万科A本周融资净偿还4339.37万元...</td>\n      <td>negative</td>\n      <td>2023-08-06</td>\n    </tr>\n    <tr>\n      <th>2</th>\n      <td>What is the sentiment of this news? Answer:{ve...</td>\n      <td>今天的日期为：2023-08-06。\\n新闻标题为：\"万科A本周深股通持股市值减少1.41亿...</td>\n      <td>negative</td>\n      <td>2023-08-06</td>\n    </tr>\n    <tr>\n      <th>3</th>\n      <td>What is the sentiment of this news? Answer:{ve...</td>\n      <td>今天的日期为：2023-08-05。\\n新闻标题为：\"万科A08月04日被深股通减持1331...</td>\n      <td>negative</td>\n      <td>2023-08-05</td>\n    </tr>\n    <tr>\n      <th>4</th>\n      <td>What is the sentiment of this news? Answer:{ve...</td>\n      <td>今天的日期为：2023-08-04。\\n新闻标题为：\"万科Ａ：连续3日融资净买入累计4951...</td>\n      <td>negative</td>\n      <td>2023-08-04</td>\n    </tr>\n    <tr>\n      <th>5</th>\n      <td>What is the sentiment of this news? Answer:{ve...</td>\n      <td>今天的日期为：2023-08-04。\\n新闻标题为：\"万科A08月03日获深股通增持597....</td>\n      <td>negative</td>\n      <td>2023-08-04</td>\n    </tr>\n    <tr>\n      <th>6</th>\n      <td>What is the sentiment of this news? Answer:{ve...</td>\n      <td>今天的日期为：2023-08-04。\\n新闻标题为：\"万科前7个月销售约2260亿元 近期新...</td>\n      <td>negative</td>\n      <td>2023-08-04</td>\n    </tr>\n    <tr>\n      <th>7</th>\n      <td>What is the sentiment of this news? Answer:{ve...</td>\n      <td>今天的日期为：2023-08-04。\\n新闻标题为：\"万科A披露7月销售数据 实现合同销售金...</td>\n      <td>negative</td>\n      <td>2023-08-03</td>\n    </tr>\n  </tbody>\n</table>\n</div>"
     },
     "execution_count": 9,
     "metadata": {},
     "output_type": "execute_result"
    }
   ],
   "source": [
    "dataset"
   ]
  },
  {
   "cell_type": "code",
   "execution_count": 10,
   "metadata": {
    "ExecuteTime": {
     "end_time": "2023-08-27T02:06:37.131158Z",
     "start_time": "2023-08-27T02:06:37.099766Z"
    }
   },
   "outputs": [],
   "source": [
    "dataset = dataset[dataset.output != \"No data\"]"
   ]
  },
  {
   "cell_type": "code",
   "execution_count": 47,
   "metadata": {
    "ExecuteTime": {
     "end_time": "2023-08-27T02:25:21.601086Z",
     "start_time": "2023-08-27T02:25:21.571769Z"
    }
   },
   "outputs": [
    {
     "data": {
      "text/plain": "array(['2023-08-03', '2023-08-04', '2023-08-05', '2023-08-06',\n       '2023-08-07'], dtype=object)"
     },
     "execution_count": 47,
     "metadata": {},
     "output_type": "execute_result"
    }
   ],
   "source": [
    "dataset.date.sort_values().unique()"
   ]
  },
  {
   "cell_type": "code",
   "execution_count": 48,
   "metadata": {
    "ExecuteTime": {
     "end_time": "2023-08-27T02:25:25.557997Z",
     "start_time": "2023-08-27T02:25:25.473428Z"
    }
   },
   "outputs": [
    {
     "data": {
      "text/plain": "<Axes: xlabel='date'>"
     },
     "execution_count": 48,
     "metadata": {},
     "output_type": "execute_result"
    },
    {
     "data": {
      "text/plain": "<Figure size 640x480 with 1 Axes>",
      "image/png": "[encoded data removed]"
     },
     "metadata": {},
     "output_type": "display_data"
    }
   ],
   "source": [
    "dataset.groupby(\"date\").date.count().plot()"
   ]
  },
  {
   "attachments": {},
   "cell_type": "markdown",
   "metadata": {},
   "source": [
    "#####  Test from 2023-10-01 till 2023-03-31\n",
    "#####  Train & valid from 2011-05-12 till 2022-03-31"
   ]
  },
  {
   "cell_type": "code",
   "execution_count": 49,
   "metadata": {
    "ExecuteTime": {
     "end_time": "2023-08-27T02:25:28.885753Z",
     "start_time": "2023-08-27T02:25:28.861102Z"
    }
   },
   "outputs": [
    {
     "data": {
      "text/plain": "(8, 4)"
     },
     "execution_count": 49,
     "metadata": {},
     "output_type": "execute_result"
    }
   ],
   "source": [
    "dataset[dataset.date<\"2023-10-01\"].shape"
   ]
  },
  {
   "cell_type": "code",
   "execution_count": 50,
   "metadata": {
    "ExecuteTime": {
     "end_time": "2023-08-27T02:25:32.358211Z",
     "start_time": "2023-08-27T02:25:32.322318Z"
    }
   },
   "outputs": [
    {
     "data": {
      "text/plain": "(8, 4)"
     },
     "execution_count": 50,
     "metadata": {},
     "output_type": "execute_result"
    }
   ],
   "source": [
    "dataset.shape"
   ]
  },
  {
   "cell_type": "code",
   "execution_count": 51,
   "metadata": {
    "ExecuteTime": {
     "end_time": "2023-08-27T02:25:34.376383Z",
     "start_time": "2023-08-27T02:25:34.306800Z"
    }
   },
   "outputs": [
    {
     "name": "stdout",
     "output_type": "stream",
     "text": [
      "今天的日期为：2023-08-07。\n",
      "新闻内容为：\" 来源：东方财富Choice数据 作者：财智星 万科Ａ融资融券信息显示，2023年8月4日融资净偿还3241.85万元；融资余额44.34亿元，较前一日下降0.73%。融资方面，当日融资买入2.1亿元，融资偿还2.43亿元，融资净偿还3241.85万元。融券方面，融券卖出19.18万股，融券偿还30.81万股，融券余量864.41万股，融券余额1.32亿元。融资融券余额合计45.66亿元。万科Ａ融资融券交易明细（08-04）万科Ａ历史融资融券数据一览免责声明：本文基于大数据生产，仅供参考，不构成任何投资建议，据此操作风险自担。（文章来源：东方财富Choice数据） [点击查看原文]\"。\n"
     ]
    }
   ],
   "source": [
    "print(df[\"input\"][0])"
   ]
  },
  {
   "cell_type": "code",
   "execution_count": 52,
   "metadata": {
    "ExecuteTime": {
     "end_time": "2023-08-27T02:25:37.393492Z",
     "start_time": "2023-08-27T02:25:37.359922Z"
    }
   },
   "outputs": [],
   "source": [
    "# Train & valid\n",
    "train_valid = dataset[dataset.date < \"2023-10-01\"][columns]\n",
    "train_valid.to_csv(r\"../../../data/contents/dataset_title_train_and_valid.csv\", index = False)"
   ]
  },
  {
   "cell_type": "code",
   "execution_count": 53,
   "metadata": {
    "ExecuteTime": {
     "end_time": "2023-08-27T02:25:39.325186Z",
     "start_time": "2023-08-27T02:25:39.293824Z"
    }
   },
   "outputs": [],
   "source": [
    "# Test\n",
    "test = dataset[dataset.date >= \"2023-10-01\"][columns]\n",
    "test.to_csv(\"../../../data/contents/dataset_title_test.csv\", index = False)"
   ]
  },
  {
   "cell_type": "code",
   "execution_count": 54,
   "metadata": {
    "ExecuteTime": {
     "end_time": "2023-08-27T02:25:42.015885Z",
     "start_time": "2023-08-27T02:25:41.990894Z"
    }
   },
   "outputs": [],
   "source": [
    "data_list = []\n",
    "for item in train_valid.itertuples():\n",
    "    tmp = {}\n",
    "    tmp[\"instruction\"] = item.instruction\n",
    "    tmp[\"input\"] = item.input\n",
    "    tmp[\"output\"] = item.output\n",
    "    data_list.append(tmp)"
   ]
  },
  {
   "cell_type": "code",
   "execution_count": 55,
   "metadata": {
    "ExecuteTime": {
     "end_time": "2023-08-27T02:25:45.187641Z",
     "start_time": "2023-08-27T02:25:45.159892Z"
    }
   },
   "outputs": [],
   "source": [
    "# To Json\n",
    "import json\n",
    "with open(\"../../../data/contents/dataset_title_train_and_valid.json\", \"w+\", encoding='utf-8') as f:\n",
    "    json.dump(data_list, f, ensure_ascii= False)"
   ]
  },
  {
   "cell_type": "code",
   "execution_count": 56,
   "metadata": {
    "ExecuteTime": {
     "end_time": "2023-08-27T02:25:47.426895Z",
     "start_time": "2023-08-27T02:25:47.402086Z"
    }
   },
   "outputs": [],
   "source": [
    "# To Json\n",
    "import json\n",
    "with open(\"../../../data/contents/dataset_title_test.json\", \"w+\", encoding='utf-8') as f:\n",
    "    json.dump(data_list, f, ensure_ascii= False)"
   ]
  },
  {
   "attachments": {},
   "cell_type": "markdown",
   "metadata": {},
   "source": [
    "### Contetn/内容"
   ]
  },
  {
   "cell_type": "code",
   "execution_count": 57,
   "metadata": {
    "ExecuteTime": {
     "end_time": "2023-08-27T02:25:52.798732Z",
     "start_time": "2023-08-27T02:25:52.769515Z"
    }
   },
   "outputs": [],
   "source": [
    "def get_content(x):\n",
    "    try:\n",
    "        tree = etree.HTML(x)\n",
    "        content = tree.xpath(\"//*[name(.)!='style']/text()\")\n",
    "        content = \"\".join(content)\n",
    "        content = content.replace(\"\\u3000\", '')\n",
    "        return content\n",
    "    except:\n",
    "        return np.nan"
   ]
  },
  {
   "cell_type": "code",
   "execution_count": 58,
   "metadata": {
    "ExecuteTime": {
     "end_time": "2023-08-27T02:25:55.306130Z",
     "start_time": "2023-08-27T02:25:55.278825Z"
    }
   },
   "outputs": [
    {
     "name": "stderr",
     "output_type": "stream",
     "text": [
      "100%|██████████| 1/1 [00:00<00:00, 126.63it/s]\n"
     ]
    }
   ],
   "source": [
    "dataset_content = pd.DataFrame(columns= columns)\n",
    "for file_name in tqdm(file_list):\n",
    "    df = pd.read_csv(os.path.join(base_path, file_name))  \n",
    "    df['input'] = df['post_content'].apply(get_content)\n",
    "    df = df.dropna(subset=['input'])\n",
    "    df[\"input\"] = df.apply(lambda x: f'今天的日期为：{x[\"publish_date\"]}。\\n新闻内容为：\\\"{x[\"input\"]}\\\"。', axis = 1)\n",
    "    df[\"instruction\"] = instruction\n",
    "    df['output'] = df[\"label\"]\n",
    "    tmp = df[columns+[\"date\"]]\n",
    "    dataset_content = pd.concat([dataset_content, tmp])"
   ]
  },
  {
   "cell_type": "code",
   "execution_count": 59,
   "metadata": {
    "ExecuteTime": {
     "end_time": "2023-08-27T02:25:57.978833Z",
     "start_time": "2023-08-27T02:25:57.944008Z"
    }
   },
   "outputs": [
    {
     "name": "stdout",
     "output_type": "stream",
     "text": [
      "今天的日期为：2023-08-07。\n",
      "新闻内容为：\" 来源：东方财富Choice数据 作者：财智星 万科Ａ融资融券信息显示，2023年8月4日融资净偿还3241.85万元；融资余额44.34亿元，较前一日下降0.73%。融资方面，当日融资买入2.1亿元，融资偿还2.43亿元，融资净偿还3241.85万元。融券方面，融券卖出19.18万股，融券偿还30.81万股，融券余量864.41万股，融券余额1.32亿元。融资融券余额合计45.66亿元。万科Ａ融资融券交易明细（08-04）万科Ａ历史融资融券数据一览免责声明：本文基于大数据生产，仅供参考，不构成任何投资建议，据此操作风险自担。（文章来源：东方财富Choice数据） [点击查看原文]\"。\n"
     ]
    }
   ],
   "source": [
    "print(df[\"input\"][0])"
   ]
  },
  {
   "cell_type": "code",
   "execution_count": 60,
   "metadata": {
    "ExecuteTime": {
     "end_time": "2023-08-27T02:26:00.983337Z",
     "start_time": "2023-08-27T02:26:00.948674Z"
    }
   },
   "outputs": [
    {
     "data": {
      "text/plain": "(8, 4)"
     },
     "execution_count": 60,
     "metadata": {},
     "output_type": "execute_result"
    }
   ],
   "source": [
    "dataset_content = dataset_content[dataset_content.output != \"No data\"]\n",
    "dataset_content.shape"
   ]
  },
  {
   "cell_type": "code",
   "execution_count": 61,
   "metadata": {
    "ExecuteTime": {
     "end_time": "2023-08-27T02:26:03.647599Z",
     "start_time": "2023-08-27T02:26:03.607295Z"
    }
   },
   "outputs": [
    {
     "data": {
      "text/plain": "(8, 5)"
     },
     "execution_count": 61,
     "metadata": {},
     "output_type": "execute_result"
    }
   ],
   "source": [
    "dataset_content[\"total_len\"] = dataset_content[\"input\"].apply(lambda x:len(x.split(\" \")))\n",
    "dataset_content = dataset_content[dataset_content[\"total_len\"] < 1000]\n",
    "dataset_content.shape"
   ]
  },
  {
   "cell_type": "code",
   "execution_count": 62,
   "metadata": {
    "ExecuteTime": {
     "end_time": "2023-08-27T02:26:06.561512Z",
     "start_time": "2023-08-27T02:26:06.536974Z"
    }
   },
   "outputs": [
    {
     "data": {
      "text/plain": "9"
     },
     "execution_count": 62,
     "metadata": {},
     "output_type": "execute_result"
    }
   ],
   "source": [
    "dataset_content[\"total_len\"].max()"
   ]
  },
  {
   "cell_type": "code",
   "execution_count": 63,
   "metadata": {
    "ExecuteTime": {
     "end_time": "2023-08-27T02:26:09.981357Z",
     "start_time": "2023-08-27T02:26:09.947019Z"
    }
   },
   "outputs": [],
   "source": [
    "# Train & valid\n",
    "train_valid = dataset_content[dataset_content.date < \"2023-10-01\"][columns]\n",
    "train_valid.to_csv(\"../../../data/contents/dataset_content_train_and_valid.csv\", index = False)"
   ]
  },
  {
   "cell_type": "code",
   "execution_count": 64,
   "metadata": {
    "ExecuteTime": {
     "end_time": "2023-08-27T02:26:13.023582Z",
     "start_time": "2023-08-27T02:26:12.999816Z"
    }
   },
   "outputs": [],
   "source": [
    "# Test\n",
    "test = dataset_content[dataset_content.date >= \"2023-10-01\"][columns]\n",
    "test.to_csv(\"../../../data/contents/dataset_content_test.csv\", index = False)"
   ]
  },
  {
   "cell_type": "code",
   "execution_count": 65,
   "metadata": {
    "ExecuteTime": {
     "end_time": "2023-08-27T02:26:17.047846Z",
     "start_time": "2023-08-27T02:26:17.018663Z"
    }
   },
   "outputs": [],
   "source": [
    "data_list = []\n",
    "for item in train_valid.itertuples():\n",
    "    tmp = {}\n",
    "    tmp[\"instruction\"] = item.instruction\n",
    "    tmp[\"input\"] = item.input\n",
    "    tmp[\"output\"] = item.output\n",
    "    data_list.append(tmp)"
   ]
  },
  {
   "cell_type": "code",
   "execution_count": 66,
   "metadata": {
    "ExecuteTime": {
     "end_time": "2023-08-27T02:26:19.357596Z",
     "start_time": "2023-08-27T02:26:19.321896Z"
    }
   },
   "outputs": [],
   "source": [
    "import json\n",
    "with open(\"../../../data/contents/dataset_content_train_and_valid.json\", \"w+\", encoding='utf-8') as f:\n",
    "    json.dump(data_list, f, ensure_ascii= False)"
   ]
  },
  {
   "cell_type": "code",
   "execution_count": 67,
   "metadata": {
    "ExecuteTime": {
     "end_time": "2023-08-27T02:26:22.779842Z",
     "start_time": "2023-08-27T02:26:22.747471Z"
    }
   },
   "outputs": [
    {
     "data": {
      "text/plain": "          instruction  input  date  total_len\noutput                                       \nnegative            8      8     8          8",
      "text/html": "<div>\n<style scoped>\n    .dataframe tbody tr th:only-of-type {\n        vertical-align: middle;\n    }\n\n    .dataframe tbody tr th {\n        vertical-align: top;\n    }\n\n    .dataframe thead th {\n        text-align: right;\n    }\n</style>\n<table border=\"1\" class=\"dataframe\">\n  <thead>\n    <tr style=\"text-align: right;\">\n      <th></th>\n      <th>instruction</th>\n      <th>input</th>\n      <th>date</th>\n      <th>total_len</th>\n    </tr>\n    <tr>\n      <th>output</th>\n      <th></th>\n      <th></th>\n      <th></th>\n      <th></th>\n    </tr>\n  </thead>\n  <tbody>\n    <tr>\n      <th>negative</th>\n      <td>8</td>\n      <td>8</td>\n      <td>8</td>\n      <td>8</td>\n    </tr>\n  </tbody>\n</table>\n</div>"
     },
     "execution_count": 67,
     "metadata": {},
     "output_type": "execute_result"
    }
   ],
   "source": [
    "dataset_content[dataset_content.date < \"2023-10-01\"].groupby(\"output\").count()"
   ]
  },
  {
   "cell_type": "code",
   "execution_count": 68,
   "metadata": {
    "ExecuteTime": {
     "end_time": "2023-08-27T02:26:28.479380Z",
     "start_time": "2023-08-27T02:26:28.412037Z"
    }
   },
   "outputs": [
    {
     "data": {
      "text/plain": "<Axes: >"
     },
     "execution_count": 68,
     "metadata": {},
     "output_type": "execute_result"
    },
    {
     "data": {
      "text/plain": "<Figure size 640x480 with 1 Axes>",
      "image/png": "[encoded data removed]"
     },
     "metadata": {},
     "output_type": "display_data"
    }
   ],
   "source": [
    "dataset_content[dataset_content.date < \"2023-10-01\"].output.hist()"
   ]
  }
 ],
 "metadata": {
  "kernelspec": {
   "display_name": "finrl",
   "language": "python",
   "name": "python3"
  },
  "language_info": {
   "codemirror_mode": {
    "name": "ipython",
    "version": 3
   },
   "file_extension": ".py",
   "mimetype": "text/x-python",
   "name": "python",
   "nbconvert_exporter": "python",
   "pygments_lexer": "ipython3",
   "version": "3.9.12"
  },
  "orig_nbformat": 4
 },
 "nbformat": 4,
 "nbformat_minor": 2
}
